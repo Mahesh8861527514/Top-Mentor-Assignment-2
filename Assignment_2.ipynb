{
  "nbformat": 4,
  "nbformat_minor": 0,
  "metadata": {
    "colab": {
      "provenance": []
    },
    "kernelspec": {
      "name": "python3",
      "display_name": "Python 3"
    },
    "language_info": {
      "name": "python"
    }
  },
  "cells": [
    {
      "cell_type": "markdown",
      "source": [
        "Quetion No-1 : Write a program which accepts month's name as input and display the number of days in the month as output.*italicized text*"
      ],
      "metadata": {
        "id": "Ovz8NfH_Bq_s"
      }
    },
    {
      "cell_type": "code",
      "execution_count": null,
      "metadata": {
        "colab": {
          "base_uri": "https://localhost:8080/"
        },
        "id": "5-4iQoz4Bk9J",
        "outputId": "fd3ad118-9280-41b3-e959-4339eb632f19"
      },
      "outputs": [
        {
          "output_type": "stream",
          "name": "stdout",
          "text": [
            "Enter Month NameFebruary\n",
            "28/29 Days\n"
          ]
        }
      ],
      "source": [
        "Month=input(\"Enter Month Name\")\n",
        "if Month==\"January\" or Month==\"March\" or Month==\"May\" or Month==\"July\" or Month==\"August\" or Month==\"October\" or Month==\"December\":\n",
        "    print(\"31 Days\")\n",
        "elif Month==\"April\" or Month==\"June\" or Month==\"September\" or Month==\"November\":\n",
        "    print(\"30 Days\")\n",
        "elif Month==\"February\":\n",
        "    print(\"28/29 Days\")\n",
        "else:\n",
        "    print(\"wrong Month name\")"
      ]
    },
    {
      "cell_type": "markdown",
      "source": [
        "Quetion on Loops No-2 : Take any word as input from the user and count the number of vowels in the word."
      ],
      "metadata": {
        "id": "Fw4mPCgeCmT-"
      }
    },
    {
      "cell_type": "code",
      "source": [
        "word=input(\"Enter any word\")\n",
        "count=0\n",
        "for i in word:\n",
        "    if i==\"a\" or i==\"e\" or i==\"i\" or i==\"o\" or i==\"u\":\n",
        "        count=count+1\n",
        "print(count)"
      ],
      "metadata": {
        "colab": {
          "base_uri": "https://localhost:8080/"
        },
        "id": "AdfXz5XwCGRY",
        "outputId": "3b2abe75-8025-4afe-c0db-220f50173a9d"
      },
      "execution_count": null,
      "outputs": [
        {
          "output_type": "stream",
          "name": "stdout",
          "text": [
            "Enter any wordTopMentor\n",
            "3\n"
          ]
        }
      ]
    },
    {
      "cell_type": "markdown",
      "source": [
        "Quetion No-3: Write a program to separate even and odd numbers in two distinct lists from a list of numbers of your choice"
      ],
      "metadata": {
        "id": "OZCAkM2SE04k"
      }
    },
    {
      "cell_type": "code",
      "source": [
        "my_list=[34,78,44,23,11,12,93]\n",
        "even_list=[]\n",
        "odd_list=[]\n",
        "for i in my_list:\n",
        "    if i%2==0:\n",
        "        even_list.append(i)\n",
        "    else:\n",
        "        odd_list.append(i)\n",
        "        print(even_list)\n",
        "        print(odd_list)"
      ],
      "metadata": {
        "colab": {
          "base_uri": "https://localhost:8080/"
        },
        "id": "CdyXdV0qEDHy",
        "outputId": "7f132029-0e62-4b7b-9ff0-e5cd903e66aa"
      },
      "execution_count": null,
      "outputs": [
        {
          "output_type": "stream",
          "name": "stdout",
          "text": [
            "[34, 78, 44]\n",
            "[23]\n",
            "[34, 78, 44]\n",
            "[23, 11]\n",
            "[34, 78, 44, 12]\n",
            "[23, 11, 93]\n"
          ]
        }
      ]
    },
    {
      "cell_type": "markdown",
      "source": [
        "Quetion No-4 : Write a program that appends datatype of elements from a list to a separate list"
      ],
      "metadata": {
        "id": "7zdYLqKtIlOD"
      }
    },
    {
      "cell_type": "code",
      "source": [
        "my_list=['India','USA',35,-4.55]\n",
        "new_list=[]\n",
        "for i in my_list:\n",
        "    new_list.append(type(i))\n",
        "print(new_list)"
      ],
      "metadata": {
        "colab": {
          "base_uri": "https://localhost:8080/"
        },
        "id": "h9feWA3QHvgg",
        "outputId": "1073f257-ff2c-492d-f8bc-01c2366a0eef"
      },
      "execution_count": null,
      "outputs": [
        {
          "output_type": "stream",
          "name": "stdout",
          "text": [
            "[<class 'str'>, <class 'str'>, <class 'int'>, <class 'float'>]\n"
          ]
        }
      ]
    },
    {
      "cell_type": "markdown",
      "source": [
        "Quetion No-5 : Write a program to display only those numbers from a list that satisfies the following conditions:\n",
        "        1. The number must be divisible by 7,\n",
        "        2. If the number is greater than 140 then skip it and move to the next number in the list,\n",
        "        3. If the number in the list is greater than 630 then stop the loop."
      ],
      "metadata": {
        "id": "5GX9fT55Jd_R"
      }
    },
    {
      "cell_type": "code",
      "source": [
        "numbers = [17, 70, 140, 210, 145, 525, 700]\n",
        "for i in numbers:\n",
        "    if i>630:\n",
        "        break\n",
        "    elif i==140:\n",
        "       continue\n",
        "    elif i%7==0:\n",
        "       break\n",
        "    print(i)"
      ],
      "metadata": {
        "id": "4NzZ7IWJFdcK",
        "colab": {
          "base_uri": "https://localhost:8080/"
        },
        "outputId": "ab8fcc74-d288-405b-9e34-e01ca4c815be"
      },
      "execution_count": null,
      "outputs": [
        {
          "output_type": "stream",
          "name": "stdout",
          "text": [
            "17\n"
          ]
        }
      ]
    },
    {
      "cell_type": "code",
      "source": [],
      "metadata": {
        "id": "8CVcTVmPr4v9"
      },
      "execution_count": null,
      "outputs": []
    }
  ]
}